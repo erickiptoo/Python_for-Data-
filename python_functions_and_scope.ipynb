{
  "cells": [
    {
      "cell_type": "markdown",
      "metadata": {
        "id": "view-in-github",
        "colab_type": "text"
      },
      "source": [
        "<a href=\"https://colab.research.google.com/github/erickiptoo/Python_for-Data-/blob/main/python_functions_and_scope.ipynb\" target=\"_parent\"><img src=\"https://colab.research.google.com/assets/colab-badge.svg\" alt=\"Open In Colab\"/></a>"
      ]
    },
    {
      "cell_type": "markdown",
      "metadata": {
        "id": "OYHKn6sFir5B"
      },
      "source": [
        "# Writing Reusable Code using Functions in Python\n",
        "\n",
        "This tutorial is a part of [Data Analysis with Python: Zero to Pandas](https://jovian.ai/learn/data-analysis-with-python-zero-to-pandas) and [Zero to Data Analyst Science Bootcamp](https://jovian.ai/learn/zero-to-data-analyst-bootcamp).\n",
        "\n",
        "![](https://i.imgur.com/TvNf5Jp.png)\n",
        "\n",
        "These tutorials take a practical and coding-focused approach. The best way to learn the material is to execute the code and experiment with it yourself."
      ]
    },
    {
      "cell_type": "markdown",
      "metadata": {
        "id": "zwXBtMF7ir5J"
      },
      "source": [
        "This tutorial covers the following topics:\n",
        "\n",
        "- Creating and using functions in Python\n",
        "- Local variables, return values, and optional arguments\n",
        "- Reusing functions and using Python library functions\n",
        "- Exception handling using `try`-`except` blocks\n",
        "- Documenting functions using docstrings"
      ]
    },
    {
      "cell_type": "markdown",
      "metadata": {
        "id": "2xcsy1nSir5K"
      },
      "source": [
        "### How to run the code\n",
        "\n",
        "This tutorial is an executable [Jupyter notebook](https://jupyter.org) hosted on [Jovian](https://www.jovian.ai). You can _run_ this tutorial and experiment with the code examples in a couple of ways: *using free online resources* (recommended) or *on your computer*.\n",
        "\n",
        "#### Option 1: Running using free online resources (1-click, recommended)\n",
        "\n",
        "The easiest way to start executing the code is to click the **Run** button at the top of this page and select **Run on Binder**. You can also select \"Run on Colab\" or \"Run on Kaggle\", but you'll need to create an account on [Google Colab](https://colab.research.google.com) or [Kaggle](https://kaggle.com) to use these platforms.\n",
        "\n",
        "\n",
        "#### Option 2: Running on your computer locally\n",
        "\n",
        "To run the code on your computer locally, you'll need to set up [Python](https://www.python.org), download the notebook and install the required libraries. We recommend using the [Conda](https://docs.conda.io/projects/conda/en/latest/user-guide/install/) distribution of Python. Click the **Run** button at the top of this page, select the **Run Locally** option, and follow the instructions.\n",
        "\n",
        ">  **Jupyter Notebooks**: This tutorial is a [Jupyter notebook](https://jupyter.org) - a document made of _cells_. Each cell can contain code written in Python or explanations in plain English. You can execute code cells and view the results, e.g., numbers, messages, graphs, tables, files, etc., instantly within the notebook. Jupyter is a powerful platform for experimentation and analysis. Don't be afraid to mess around with the code & break things - you'll learn a lot by encountering and fixing errors. You can use the \"Kernel > Restart & Clear Output\" menu option to clear all outputs and start again from the top."
      ]
    },
    {
      "cell_type": "markdown",
      "metadata": {
        "id": "iYI4nK0Tir5L"
      },
      "source": [
        "## Creating and using functions\n",
        "\n",
        "A function is a reusable set of instructions that takes one or more inputs, performs some operations, and often returns an output. Python contains many in-built functions like `print`, `len`, etc., and provides the ability to define new ones."
      ]
    },
    {
      "cell_type": "code",
      "execution_count": null,
      "metadata": {
        "id": "lBegOfgrir5M",
        "outputId": "8d75bb1a-1565-46f4-ffcb-50dbf4e6388f"
      },
      "outputs": [
        {
          "name": "stdout",
          "output_type": "stream",
          "text": [
            "Today is Saturday\n"
          ]
        }
      ],
      "source": [
        "today = \"Saturday\"\n",
        "print(\"Today is\", today)"
      ]
    },
    {
      "cell_type": "markdown",
      "metadata": {
        "id": "oLYIT1fnir5P"
      },
      "source": [
        "You can define a new function using the `def` keyword."
      ]
    },
    {
      "cell_type": "code",
      "execution_count": null,
      "metadata": {
        "id": "1tIfDBpfir5Q"
      },
      "outputs": [],
      "source": [
        "def say_hello():\n",
        "    print('Hello there!')\n",
        "    print('How are you?')"
      ]
    },
    {
      "cell_type": "markdown",
      "metadata": {
        "id": "e8mn6Kajir5R"
      },
      "source": [
        "Note the round brackets or parentheses `()` and colon `:` after the function's name. Both are essential parts of the syntax. The function's *body* contains an indented block of statements. The statements inside a function's body are not executed when the function is defined. To execute the statements, we need to *call* or *invoke* the function."
      ]
    },
    {
      "cell_type": "code",
      "execution_count": null,
      "metadata": {
        "id": "3RSzTUgmir5R",
        "outputId": "3a1a3941-d335-4630-db15-f981a3a63dea"
      },
      "outputs": [
        {
          "name": "stdout",
          "output_type": "stream",
          "text": [
            "Hello there!\n",
            "How are you?\n"
          ]
        }
      ],
      "source": [
        "say_hello()"
      ]
    },
    {
      "cell_type": "markdown",
      "metadata": {
        "id": "pq6aM7ZWir5S"
      },
      "source": [
        "### Function arguments\n",
        "\n",
        "Functions can accept zero or more values as *inputs* (also knows as *arguments* or *parameters*). Arguments help us write flexible functions that can perform the same operations on different values. Further, functions can return a result that can be stored in a variable or used in other expressions.\n",
        "\n",
        "Here's a function that filters out the even numbers from a list and returns a new list using the `return` keyword."
      ]
    },
    {
      "cell_type": "code",
      "execution_count": null,
      "metadata": {
        "id": "pJDISThHir5T"
      },
      "outputs": [],
      "source": [
        "def filter_even(number_list):\n",
        "    result_list = []\n",
        "    for number in number_list:\n",
        "        if number % 2 == 0:\n",
        "            result_list.append(number)\n",
        "    return result_list"
      ]
    },
    {
      "cell_type": "markdown",
      "metadata": {
        "id": "5oNGb1bOir5U"
      },
      "source": [
        "Can you understand what the function does by looking at the code? If not, try executing each line of the function's body separately within a code cell with an actual list of numbers in place of `number_list`."
      ]
    },
    {
      "cell_type": "code",
      "execution_count": null,
      "metadata": {
        "id": "B-DyDfRpir5U"
      },
      "outputs": [],
      "source": [
        "even_list = filter_even([1, 2, 3, 4, 5, 6, 7])"
      ]
    },
    {
      "cell_type": "code",
      "execution_count": null,
      "metadata": {
        "id": "l_LLhX0Mir5U",
        "outputId": "ca543a26-e2b8-406c-93d3-1b1d27aac4b0"
      },
      "outputs": [
        {
          "data": {
            "text/plain": [
              "[2, 4, 6]"
            ]
          },
          "execution_count": 6,
          "metadata": {},
          "output_type": "execute_result"
        }
      ],
      "source": [
        "even_list"
      ]
    },
    {
      "cell_type": "markdown",
      "metadata": {
        "id": "UZbM5YWair5V"
      },
      "source": [
        "## Writing great functions in Python\n",
        "\n",
        "As a programmer, you will spend most of your time writing and using functions. Python offers many features to make your functions powerful and flexible. Let's explore some of these by solving a problem:\n",
        "\n",
        "> Radha is planning to buy a house that costs `$1,260,000`. She considering two options to finance her purchase:\n",
        ">\n",
        "> * Option 1: Make an immediate down payment of `$300,000`, and take loan 8-year loan with an interest rate of 10% (compounded monthly) for the remaining amount.\n",
        "> * Option 2: Take a 10-year loan with an interest rate of 8% (compounded monthly) for the entire amount.\n",
        ">\n",
        "> Both these loans have to be paid back in equal monthly installments (EMIs). Which loan has a lower EMI among the two?\n",
        "\n",
        "\n",
        "Since we need to compare the EMIs for two loan options, defining a function to calculate the EMI for a loan would be a great idea.  The inputs to the function would be cost of the house, the down payment, duration of the loan, rate of interest etc. We'll build this function step by step.\n",
        "\n",
        "First, let's write a simple function that calculates the EMI on the entire cost of the house, assuming that the loan must be paid back in one year, and there is no interest or down payment."
      ]
    },
    {
      "cell_type": "code",
      "execution_count": null,
      "metadata": {
        "id": "071NkWTeir5V"
      },
      "outputs": [],
      "source": [
        "def loan_emi(amount):\n",
        "    emi = amount / 12\n",
        "    print('The EMI is ${}'.format(emi))"
      ]
    },
    {
      "cell_type": "code",
      "execution_count": null,
      "metadata": {
        "id": "P4yiLCwPir5W",
        "outputId": "3bc3a0e6-1f40-459b-8d28-85048a3b0748"
      },
      "outputs": [
        {
          "name": "stdout",
          "output_type": "stream",
          "text": [
            "The EMI is $105000.0\n"
          ]
        }
      ],
      "source": [
        "loan_emi(1260000)"
      ]
    },
    {
      "cell_type": "markdown",
      "metadata": {
        "id": "ROPw0J2pir5W"
      },
      "source": [
        "### Local variables and scope\n",
        "\n",
        "Let's add a second argument to account for the duration of the loan in months."
      ]
    },
    {
      "cell_type": "code",
      "execution_count": 1,
      "metadata": {
        "id": "SMp0KzA-ir5X"
      },
      "outputs": [],
      "source": [
        "def loan_emi(amount, duration):\n",
        "    emi = amount / duration\n",
        "    print('The EMI is ${}'.format(emi))"
      ]
    },
    {
      "cell_type": "markdown",
      "metadata": {
        "id": "rSWBf09eir5Y"
      },
      "source": [
        "Note that the variable `emi` defined inside the function is not accessible outside. The same is true for the parameters `amount` and `duration`. These are all *local variables* that lie within the *scope* of the function.\n",
        "\n",
        "> **Scope**: Scope refers to the region within the code where a particular variable is visible. Every function (or class definition) defines a scope within Python. Variables defined in this scope are called *local variables*. Variables that are available everywhere are called *global variables*. Scope rules allow you to use the same variable names in different functions without sharing values from one to the other."
      ]
    },
    {
      "cell_type": "code",
      "source": [],
      "metadata": {
        "id": "mr9e6AK7vMF4"
      },
      "execution_count": null,
      "outputs": []
    },
    {
      "cell_type": "code",
      "source": [],
      "metadata": {
        "id": "R72enLgJvMjD"
      },
      "execution_count": null,
      "outputs": []
    },
    {
      "cell_type": "code",
      "execution_count": null,
      "metadata": {
        "id": "aOeKzIiPir5Z",
        "outputId": "45fc3eb6-e277-4ea6-b6c6-86c1ba2060fa"
      },
      "outputs": [
        {
          "ename": "NameError",
          "evalue": "name 'emi' is not defined",
          "output_type": "error",
          "traceback": [
            "\u001b[0;31m---------------------------------------------------------------------------\u001b[0m",
            "\u001b[0;31mNameError\u001b[0m                                 Traceback (most recent call last)",
            "\u001b[0;32m<ipython-input-10-e5795bfcf3c1>\u001b[0m in \u001b[0;36m<module>\u001b[0;34m\u001b[0m\n\u001b[0;32m----> 1\u001b[0;31m \u001b[0memi\u001b[0m\u001b[0;34m\u001b[0m\u001b[0;34m\u001b[0m\u001b[0m\n\u001b[0m",
            "\u001b[0;31mNameError\u001b[0m: name 'emi' is not defined"
          ]
        }
      ],
      "source": [
        "emi"
      ]
    },
    {
      "cell_type": "code",
      "execution_count": null,
      "metadata": {
        "id": "iYMkV116ir5Z",
        "outputId": "e3c1a9ed-d913-4891-b486-3da79b6e387c"
      },
      "outputs": [
        {
          "ename": "NameError",
          "evalue": "name 'amount' is not defined",
          "output_type": "error",
          "traceback": [
            "\u001b[0;31m---------------------------------------------------------------------------\u001b[0m",
            "\u001b[0;31mNameError\u001b[0m                                 Traceback (most recent call last)",
            "\u001b[0;32m<ipython-input-11-9b8f90fabac0>\u001b[0m in \u001b[0;36m<module>\u001b[0;34m\u001b[0m\n\u001b[0;32m----> 1\u001b[0;31m \u001b[0mamount\u001b[0m\u001b[0;34m\u001b[0m\u001b[0;34m\u001b[0m\u001b[0m\n\u001b[0m",
            "\u001b[0;31mNameError\u001b[0m: name 'amount' is not defined"
          ]
        }
      ],
      "source": [
        "amount"
      ]
    },
    {
      "cell_type": "code",
      "execution_count": null,
      "metadata": {
        "id": "zayg_OVjir5a",
        "outputId": "464696f1-5f98-41d2-cf61-3034811d0728"
      },
      "outputs": [
        {
          "ename": "NameError",
          "evalue": "name 'duration' is not defined",
          "output_type": "error",
          "traceback": [
            "\u001b[0;31m---------------------------------------------------------------------------\u001b[0m",
            "\u001b[0;31mNameError\u001b[0m                                 Traceback (most recent call last)",
            "\u001b[0;32m<ipython-input-12-5b6659652103>\u001b[0m in \u001b[0;36m<module>\u001b[0;34m\u001b[0m\n\u001b[0;32m----> 1\u001b[0;31m \u001b[0mduration\u001b[0m\u001b[0;34m\u001b[0m\u001b[0;34m\u001b[0m\u001b[0m\n\u001b[0m",
            "\u001b[0;31mNameError\u001b[0m: name 'duration' is not defined"
          ]
        }
      ],
      "source": [
        "duration"
      ]
    },
    {
      "cell_type": "markdown",
      "metadata": {
        "id": "UEUP5IXNir5a"
      },
      "source": [
        "We can now compare a 8-year loan vs. a 10-year loan (assuming no down payment or interest)."
      ]
    },
    {
      "cell_type": "code",
      "execution_count": null,
      "metadata": {
        "id": "vvSq57zsir5a",
        "outputId": "17f0ff3b-5ff4-4b97-e23d-bad39cc9cf9d"
      },
      "outputs": [
        {
          "name": "stdout",
          "output_type": "stream",
          "text": [
            "The EMI is $13125.0\n"
          ]
        }
      ],
      "source": [
        "loan_emi(1260000, 8*12)"
      ]
    },
    {
      "cell_type": "code",
      "execution_count": null,
      "metadata": {
        "scrolled": true,
        "id": "OVHwEAzrir5b",
        "outputId": "ef50dc7f-f996-4820-a062-95a296c07280"
      },
      "outputs": [
        {
          "name": "stdout",
          "output_type": "stream",
          "text": [
            "The EMI is $10500.0\n"
          ]
        }
      ],
      "source": [
        "loan_emi(1260000, 10*12)"
      ]
    },
    {
      "cell_type": "markdown",
      "metadata": {
        "id": "HGTDs3Eyir5b"
      },
      "source": [
        "### Return values\n",
        "\n",
        "As you might expect, the EMI for the 6-year loan is higher compared to the 10-year loan. Right now, we're printing out the result. It would be better to return it and store the results in variables for easier comparison. We can do this using the `return` statement"
      ]
    },
    {
      "cell_type": "code",
      "execution_count": null,
      "metadata": {
        "id": "UzDqh3HUir5c"
      },
      "outputs": [],
      "source": [
        "def loan_emi(amount, duration):\n",
        "    emi = amount / duration\n",
        "    return emi"
      ]
    },
    {
      "cell_type": "code",
      "execution_count": null,
      "metadata": {
        "id": "sRf3nczBir5c"
      },
      "outputs": [],
      "source": [
        "emi1 = loan_emi(1260000, 8*12)"
      ]
    },
    {
      "cell_type": "code",
      "execution_count": null,
      "metadata": {
        "id": "pUZA9ORzir5c"
      },
      "outputs": [],
      "source": [
        "emi2 = loan_emi(1260000, 10*12)"
      ]
    },
    {
      "cell_type": "code",
      "execution_count": null,
      "metadata": {
        "scrolled": true,
        "id": "633EOFWTir5c",
        "outputId": "00dcefd5-a42d-4b2c-8ce7-a8ba5108450c"
      },
      "outputs": [
        {
          "data": {
            "text/plain": [
              "13125.0"
            ]
          },
          "execution_count": 18,
          "metadata": {},
          "output_type": "execute_result"
        }
      ],
      "source": [
        "emi1"
      ]
    },
    {
      "cell_type": "code",
      "execution_count": null,
      "metadata": {
        "id": "QAOo22KAir5c",
        "outputId": "963c266c-868a-4974-e2f5-64dd6470ecd2"
      },
      "outputs": [
        {
          "data": {
            "text/plain": [
              "10500.0"
            ]
          },
          "execution_count": 19,
          "metadata": {},
          "output_type": "execute_result"
        }
      ],
      "source": [
        "emi2"
      ]
    },
    {
      "cell_type": "markdown",
      "metadata": {
        "id": "aluBpgW3ir5d"
      },
      "source": [
        "### Optional arguments\n",
        "\n",
        "Next, let's add another argument to account for the immediate down payment. We'll make this an *optional argument* with a default value of 0."
      ]
    },
    {
      "cell_type": "code",
      "execution_count": null,
      "metadata": {
        "id": "-rMQiWqYir5d"
      },
      "outputs": [],
      "source": [
        "def loan_emi(amount, duration, down_payment=0):\n",
        "    loan_amount = amount - down_payment\n",
        "    emi = loan_amount / duration\n",
        "    return emi"
      ]
    },
    {
      "cell_type": "code",
      "execution_count": null,
      "metadata": {
        "id": "hpgBX8Wnir5d"
      },
      "outputs": [],
      "source": [
        "emi1 = loan_emi(1260000, 8*12, 3e5)"
      ]
    },
    {
      "cell_type": "code",
      "execution_count": null,
      "metadata": {
        "id": "SrLvNG2Air5d",
        "outputId": "4cc8eb99-4469-45bb-c422-7971bba5cdf9"
      },
      "outputs": [
        {
          "data": {
            "text/plain": [
              "10000.0"
            ]
          },
          "execution_count": 22,
          "metadata": {},
          "output_type": "execute_result"
        }
      ],
      "source": [
        "emi1"
      ]
    },
    {
      "cell_type": "code",
      "execution_count": null,
      "metadata": {
        "id": "5kYlI8L-ir5d"
      },
      "outputs": [],
      "source": [
        "emi2 = loan_emi(1260000, 10*12)"
      ]
    },
    {
      "cell_type": "code",
      "execution_count": null,
      "metadata": {
        "id": "TxKEUackir5e",
        "outputId": "103a6e78-991d-40a4-d6d1-ac585ef94973"
      },
      "outputs": [
        {
          "data": {
            "text/plain": [
              "10500.0"
            ]
          },
          "execution_count": 24,
          "metadata": {},
          "output_type": "execute_result"
        }
      ],
      "source": [
        "emi2"
      ]
    },
    {
      "cell_type": "markdown",
      "metadata": {
        "id": "IHEIdPx2ir5e"
      },
      "source": [
        "Next, let's add the interest calculation into the function. Here's the formula used to calculate the EMI for a loan:\n",
        "\n",
        "<img src=\"https://i.imgur.com/iKujHGK.png\" style=\"width:240px\">\n",
        "\n",
        "where:\n",
        "\n",
        "* `P` is the loan amount (principal)\n",
        "* `n` is the no. of months\n",
        "* `r` is the rate of interest per month\n",
        "\n",
        "The derivation of this formula is beyond the scope of this tutorial. See this video for an explanation: https://youtu.be/Coxza9ugW4E ."
      ]
    },
    {
      "cell_type": "code",
      "execution_count": null,
      "metadata": {
        "id": "TVLEWI4iir5m"
      },
      "outputs": [],
      "source": [
        "def loan_emi(amount, duration, rate, down_payment=0):\n",
        "    loan_amount = amount - down_payment\n",
        "    emi = loan_amount * rate * ((1+rate)**duration) / (((1+rate)**duration)-1)\n",
        "    return emi"
      ]
    },
    {
      "cell_type": "markdown",
      "metadata": {
        "id": "Du86ooZAir5n"
      },
      "source": [
        "Note that while defining the function, required arguments like `cost`, `duration` and `rate` must appear before optional arguments like `down_payment`.\n",
        "\n",
        "Let's calculate the EMI for Option 1"
      ]
    },
    {
      "cell_type": "code",
      "execution_count": null,
      "metadata": {
        "scrolled": true,
        "id": "JATH1rffir5n",
        "outputId": "64ab4921-fa54-467e-db8e-cb309699ff60"
      },
      "outputs": [
        {
          "data": {
            "text/plain": [
              "14567.19753389219"
            ]
          },
          "execution_count": 26,
          "metadata": {},
          "output_type": "execute_result"
        }
      ],
      "source": [
        "loan_emi(1260000, 8*12, 0.1/12, 3e5)"
      ]
    },
    {
      "cell_type": "markdown",
      "metadata": {
        "id": "oZFcGbYeir5o"
      },
      "source": [
        "While calculating the EMI for Option 2, we need not include the `down_payment` argument."
      ]
    },
    {
      "cell_type": "code",
      "execution_count": null,
      "metadata": {
        "id": "WjUqF4G6ir5p",
        "outputId": "884433b5-1a5b-4c38-d8e1-988de1bf52ed"
      },
      "outputs": [
        {
          "data": {
            "text/plain": [
              "15287.276888775077"
            ]
          },
          "execution_count": 27,
          "metadata": {},
          "output_type": "execute_result"
        }
      ],
      "source": [
        "loan_emi(1260000, 10*12, 0.08/12)"
      ]
    },
    {
      "cell_type": "markdown",
      "metadata": {
        "id": "zU1rqikMir5p"
      },
      "source": [
        "### Named arguments\n",
        "\n",
        "Invoking a function with many arguments can often get confusing and is prone to human errors. Python provides the option of invoking functions with *named* arguments for better clarity. You can also split function invocation into multiple lines."
      ]
    },
    {
      "cell_type": "code",
      "execution_count": null,
      "metadata": {
        "id": "Aeq5ksQrir5q"
      },
      "outputs": [],
      "source": [
        "emi1 = loan_emi(\n",
        "    amount=1260000,\n",
        "    duration=8*12,\n",
        "    rate=0.1/12,\n",
        "    down_payment=3e5\n",
        ")"
      ]
    },
    {
      "cell_type": "code",
      "execution_count": null,
      "metadata": {
        "id": "_okiXQRLir5q",
        "outputId": "fa45ae02-da61-4b9a-c396-0e487066f9d7"
      },
      "outputs": [
        {
          "data": {
            "text/plain": [
              "14567.19753389219"
            ]
          },
          "execution_count": 29,
          "metadata": {},
          "output_type": "execute_result"
        }
      ],
      "source": [
        "emi1"
      ]
    },
    {
      "cell_type": "code",
      "execution_count": null,
      "metadata": {
        "id": "yBD3tw17ir5t"
      },
      "outputs": [],
      "source": [
        "emi2 = loan_emi(amount=1260000, duration=10*12, rate=0.08/12)"
      ]
    },
    {
      "cell_type": "code",
      "execution_count": null,
      "metadata": {
        "id": "tHcLr0F_ir5u",
        "outputId": "dd93e4d8-89f5-4ee1-b3e0-830da75b17c0"
      },
      "outputs": [
        {
          "data": {
            "text/plain": [
              "15287.276888775077"
            ]
          },
          "execution_count": 31,
          "metadata": {},
          "output_type": "execute_result"
        }
      ],
      "source": [
        "emi2"
      ]
    },
    {
      "cell_type": "markdown",
      "metadata": {
        "id": "VIi5xpwBir5u"
      },
      "source": [
        "### Modules and library functions\n",
        "\n",
        "We can already see that the EMI for Option 1 is lower than the EMI for Option 2. However, it would be nice to round up the amount to full dollars, rather than showing digits after the decimal. To achieve this, we might want to write a function that can take a number and round it up to the next integer (e.g., 1.2 is rounded up to 2). That would be a great exercise to try out!\n",
        "\n",
        "However, since rounding numbers is a fairly common operation, Python provides a function for it (along with thousands of other functions) as part of the [Python Standard Library](https://docs.python.org/3/library/). Functions are organized into *modules* that need to be imported to use the functions they contain.\n",
        "\n",
        "> **Modules**: Modules are files containing Python code (variables, functions, classes, etc.). They provide a way of organizing the code for large Python projects into files and folders. The key benefit of using modules is _namespaces_: you must import the module to use its functions within a Python script or notebook. Namespaces provide encapsulation and avoid naming conflicts between your code and a module or across modules.\n",
        "\n",
        "We can use the `ceil` function (short for *ceiling*) from the `math` module to round up numbers. Let's import the module and use it to round up the number `1.2`."
      ]
    },
    {
      "cell_type": "code",
      "execution_count": null,
      "metadata": {
        "id": "7kaY7PpGir5v"
      },
      "outputs": [],
      "source": [
        "import math"
      ]
    },
    {
      "cell_type": "code",
      "execution_count": null,
      "metadata": {
        "id": "1y0E6sCpir5v",
        "outputId": "d2b669b9-cfeb-48c9-f700-d4f6fcfa091b"
      },
      "outputs": [
        {
          "name": "stdout",
          "output_type": "stream",
          "text": [
            "Help on built-in function ceil in module math:\n",
            "\n",
            "ceil(x, /)\n",
            "    Return the ceiling of x as an Integral.\n",
            "    \n",
            "    This is the smallest integer >= x.\n",
            "\n"
          ]
        }
      ],
      "source": [
        "help(math.ceil)"
      ]
    },
    {
      "cell_type": "code",
      "execution_count": null,
      "metadata": {
        "id": "LDafbrJJir5w",
        "outputId": "a6bedee4-0e14-4bb2-88bd-13a410f6a109"
      },
      "outputs": [
        {
          "data": {
            "text/plain": [
              "2"
            ]
          },
          "execution_count": 34,
          "metadata": {},
          "output_type": "execute_result"
        }
      ],
      "source": [
        "math.ceil(1.2)"
      ]
    },
    {
      "cell_type": "markdown",
      "metadata": {
        "id": "P5PIugLair5w"
      },
      "source": [
        "Let's now use the `math.ceil` function within the `home_loan_emi` function to round up the EMI amount.\n",
        "\n",
        "> Using functions to build other functions is a great way to reuse code and implement complex business logic while still keeping the code small, understandable, and manageable. Ideally, a function should do one thing and one thing only. If you find yourself writing a function that does too many things, consider splitting it into multiple smaller, independent functions. As a rule of thumb, try to limit your functions to 10 lines of code or less. Good programmers always write short, simple, and readable functions.\n",
        "\n"
      ]
    },
    {
      "cell_type": "code",
      "execution_count": null,
      "metadata": {
        "id": "DcPfUKIFir5x"
      },
      "outputs": [],
      "source": [
        "def loan_emi(amount, duration, rate, down_payment=0):\n",
        "    loan_amount = amount - down_payment\n",
        "    emi = loan_amount * rate * ((1+rate)**duration) / (((1+rate)**duration)-1)\n",
        "    emi = math.ceil(emi)\n",
        "    return emi"
      ]
    },
    {
      "cell_type": "code",
      "execution_count": null,
      "metadata": {
        "id": "oIbX2q8Cir5x"
      },
      "outputs": [],
      "source": [
        "emi1 = loan_emi(\n",
        "    amount=1260000,\n",
        "    duration=8*12,\n",
        "    rate=0.1/12,\n",
        "    down_payment=3e5\n",
        ")"
      ]
    },
    {
      "cell_type": "code",
      "execution_count": null,
      "metadata": {
        "id": "HtFnBpHeir5y",
        "outputId": "a74c9e56-60a5-43fa-bef6-750c18f94821"
      },
      "outputs": [
        {
          "data": {
            "text/plain": [
              "14568"
            ]
          },
          "execution_count": 37,
          "metadata": {},
          "output_type": "execute_result"
        }
      ],
      "source": [
        "emi1"
      ]
    },
    {
      "cell_type": "code",
      "execution_count": null,
      "metadata": {
        "id": "5vaI_snqir5z"
      },
      "outputs": [],
      "source": [
        "emi2 = loan_emi(amount=1260000, duration=10*12, rate=0.08/12)"
      ]
    },
    {
      "cell_type": "code",
      "execution_count": null,
      "metadata": {
        "id": "kaIJd-_Eir5z",
        "outputId": "3a7714fa-f17e-41ca-e95e-ef0d7ecdb395"
      },
      "outputs": [
        {
          "data": {
            "text/plain": [
              "15288"
            ]
          },
          "execution_count": 39,
          "metadata": {},
          "output_type": "execute_result"
        }
      ],
      "source": [
        "emi2"
      ]
    },
    {
      "cell_type": "markdown",
      "metadata": {
        "id": "HHv00Gvgir50"
      },
      "source": [
        "Let's compare the EMIs and display a message for the option with the lower EMI."
      ]
    },
    {
      "cell_type": "code",
      "execution_count": null,
      "metadata": {
        "id": "l_X_RmXKir50",
        "outputId": "87ea31bd-bbe9-4118-f34f-4764c25ed75e"
      },
      "outputs": [
        {
          "name": "stdout",
          "output_type": "stream",
          "text": [
            "Option 1 has the lower EMI: $14568\n"
          ]
        }
      ],
      "source": [
        "if emi1 < emi2:\n",
        "    print(\"Option 1 has the lower EMI: ${}\".format(emi1))\n",
        "else:\n",
        "    print(\"Option 2 has the lower EMI: ${}\".format(emi2))"
      ]
    },
    {
      "cell_type": "markdown",
      "metadata": {
        "id": "YiJe3IlAir50"
      },
      "source": [
        "### Reusing and improving functions\n",
        "\n",
        "Now we know for sure that \"Option 1\" has the lower EMI among the two options. But what's even better is that we now have a handy function `loan_emi` that we can use to solve many other similar problems with just a few lines of code. Let's try it with a couple more questions."
      ]
    },
    {
      "cell_type": "markdown",
      "metadata": {
        "id": "6WdbE1ihir51"
      },
      "source": [
        "> **Q**: Shaun is currently paying back a home loan for a house he bought a few years ago. The cost of the house was `$800,000`. Shaun made a down payment of `25%` of the price. He financed the remaining amount using a 6-year loan with an interest rate of `7%` per annum (compounded monthly). Shaun is now buying a car worth `$60,000`, which he is planning to finance using a 1-year loan with an interest rate of `12%` per annum. Both loans are paid back in EMIs. What is the total monthly payment Shaun makes towards loan repayment?\n",
        "\n",
        "This question is now straightforward to solve, using the `loan_emi` function we've already defined."
      ]
    },
    {
      "cell_type": "code",
      "execution_count": null,
      "metadata": {
        "id": "EsRkIUNiir51",
        "outputId": "311bc0a7-c085-488c-a5a6-ad66369a61a7"
      },
      "outputs": [
        {
          "data": {
            "text/plain": [
              "10230"
            ]
          },
          "execution_count": 41,
          "metadata": {},
          "output_type": "execute_result"
        }
      ],
      "source": [
        "cost_of_house = 800000\n",
        "home_loan_duration = 6*12 # months\n",
        "home_loan_rate = 0.07/12 # monthly\n",
        "home_down_payment = .25 * 800000\n",
        "\n",
        "emi_house = loan_emi(amount=cost_of_house,\n",
        "                     duration=home_loan_duration,\n",
        "                     rate=home_loan_rate,\n",
        "                     down_payment=home_down_payment)\n",
        "\n",
        "emi_house"
      ]
    },
    {
      "cell_type": "code",
      "execution_count": null,
      "metadata": {
        "id": "qNTbPB_Jir51",
        "outputId": "928d0664-b639-4815-b554-98dc2dce1d52"
      },
      "outputs": [
        {
          "data": {
            "text/plain": [
              "5331"
            ]
          },
          "execution_count": 42,
          "metadata": {},
          "output_type": "execute_result"
        }
      ],
      "source": [
        "cost_of_car = 60000\n",
        "car_loan_duration = 1*12 # months\n",
        "car_loan_rate = .12/12 # monthly\n",
        "\n",
        "emi_car = loan_emi(amount=cost_of_car,\n",
        "                   duration=car_loan_duration,\n",
        "                   rate=car_loan_rate)\n",
        "\n",
        "emi_car"
      ]
    },
    {
      "cell_type": "code",
      "execution_count": null,
      "metadata": {
        "id": "apQTWNeTir51",
        "outputId": "421d9323-5641-4d50-bf94-e73932309d90"
      },
      "outputs": [
        {
          "name": "stdout",
          "output_type": "stream",
          "text": [
            "Shaun makes a total monthly payment of $15561 towards loan repayments.\n"
          ]
        }
      ],
      "source": [
        "print(\"Shaun makes a total monthly payment of ${} towards loan repayments.\".format(emi_house+emi_car))"
      ]
    },
    {
      "cell_type": "markdown",
      "metadata": {
        "id": "05ORORAzir52"
      },
      "source": [
        "### Exceptions and `try`-`except`\n",
        "\n",
        "> Q: If you borrow `$100,000` using a 10-year loan with an interest rate of 9% per annum, what is the total amount you end up paying as interest?\n",
        "\n",
        "One way to solve this problem is to compare the EMIs for two loans: one with the given rate of interest and another with a 0% rate of interest. The total interest paid is then simply the sum of monthly differences over the duration of the loan."
      ]
    },
    {
      "cell_type": "code",
      "execution_count": null,
      "metadata": {
        "id": "ogw6fZ_gir52",
        "outputId": "e5369b9b-689e-468d-c292-2370711ccfec"
      },
      "outputs": [
        {
          "data": {
            "text/plain": [
              "1267"
            ]
          },
          "execution_count": 44,
          "metadata": {},
          "output_type": "execute_result"
        }
      ],
      "source": [
        "emi_with_interest = loan_emi(amount=100000, duration=10*12, rate=0.09/12)\n",
        "emi_with_interest"
      ]
    },
    {
      "cell_type": "code",
      "execution_count": null,
      "metadata": {
        "id": "EACmiHQRir52",
        "outputId": "316db8ee-a51c-4ecb-95ea-5b45ec0228a6"
      },
      "outputs": [
        {
          "ename": "ZeroDivisionError",
          "evalue": "float division by zero",
          "output_type": "error",
          "traceback": [
            "\u001b[0;31m---------------------------------------------------------------------------\u001b[0m",
            "\u001b[0;31mZeroDivisionError\u001b[0m                         Traceback (most recent call last)",
            "\u001b[0;32m<ipython-input-45-b684ffbee02d>\u001b[0m in \u001b[0;36m<module>\u001b[0;34m\u001b[0m\n\u001b[0;32m----> 1\u001b[0;31m \u001b[0memi_without_interest\u001b[0m \u001b[0;34m=\u001b[0m \u001b[0mloan_emi\u001b[0m\u001b[0;34m(\u001b[0m\u001b[0mamount\u001b[0m\u001b[0;34m=\u001b[0m\u001b[0;36m100000\u001b[0m\u001b[0;34m,\u001b[0m \u001b[0mduration\u001b[0m\u001b[0;34m=\u001b[0m\u001b[0;36m10\u001b[0m\u001b[0;34m*\u001b[0m\u001b[0;36m12\u001b[0m\u001b[0;34m,\u001b[0m \u001b[0mrate\u001b[0m\u001b[0;34m=\u001b[0m\u001b[0;36m0.\u001b[0m\u001b[0;34m/\u001b[0m\u001b[0;36m12\u001b[0m\u001b[0;34m)\u001b[0m\u001b[0;34m\u001b[0m\u001b[0;34m\u001b[0m\u001b[0m\n\u001b[0m\u001b[1;32m      2\u001b[0m \u001b[0memi_without_interest\u001b[0m\u001b[0;34m\u001b[0m\u001b[0;34m\u001b[0m\u001b[0m\n",
            "\u001b[0;32m<ipython-input-35-ad16168becb0>\u001b[0m in \u001b[0;36mloan_emi\u001b[0;34m(amount, duration, rate, down_payment)\u001b[0m\n\u001b[1;32m      1\u001b[0m \u001b[0;32mdef\u001b[0m \u001b[0mloan_emi\u001b[0m\u001b[0;34m(\u001b[0m\u001b[0mamount\u001b[0m\u001b[0;34m,\u001b[0m \u001b[0mduration\u001b[0m\u001b[0;34m,\u001b[0m \u001b[0mrate\u001b[0m\u001b[0;34m,\u001b[0m \u001b[0mdown_payment\u001b[0m\u001b[0;34m=\u001b[0m\u001b[0;36m0\u001b[0m\u001b[0;34m)\u001b[0m\u001b[0;34m:\u001b[0m\u001b[0;34m\u001b[0m\u001b[0;34m\u001b[0m\u001b[0m\n\u001b[1;32m      2\u001b[0m     \u001b[0mloan_amount\u001b[0m \u001b[0;34m=\u001b[0m \u001b[0mamount\u001b[0m \u001b[0;34m-\u001b[0m \u001b[0mdown_payment\u001b[0m\u001b[0;34m\u001b[0m\u001b[0;34m\u001b[0m\u001b[0m\n\u001b[0;32m----> 3\u001b[0;31m     \u001b[0memi\u001b[0m \u001b[0;34m=\u001b[0m \u001b[0mloan_amount\u001b[0m \u001b[0;34m*\u001b[0m \u001b[0mrate\u001b[0m \u001b[0;34m*\u001b[0m \u001b[0;34m(\u001b[0m\u001b[0;34m(\u001b[0m\u001b[0;36m1\u001b[0m\u001b[0;34m+\u001b[0m\u001b[0mrate\u001b[0m\u001b[0;34m)\u001b[0m\u001b[0;34m**\u001b[0m\u001b[0mduration\u001b[0m\u001b[0;34m)\u001b[0m \u001b[0;34m/\u001b[0m \u001b[0;34m(\u001b[0m\u001b[0;34m(\u001b[0m\u001b[0;34m(\u001b[0m\u001b[0;36m1\u001b[0m\u001b[0;34m+\u001b[0m\u001b[0mrate\u001b[0m\u001b[0;34m)\u001b[0m\u001b[0;34m**\u001b[0m\u001b[0mduration\u001b[0m\u001b[0;34m)\u001b[0m\u001b[0;34m-\u001b[0m\u001b[0;36m1\u001b[0m\u001b[0;34m)\u001b[0m\u001b[0;34m\u001b[0m\u001b[0;34m\u001b[0m\u001b[0m\n\u001b[0m\u001b[1;32m      4\u001b[0m     \u001b[0memi\u001b[0m \u001b[0;34m=\u001b[0m \u001b[0mmath\u001b[0m\u001b[0;34m.\u001b[0m\u001b[0mceil\u001b[0m\u001b[0;34m(\u001b[0m\u001b[0memi\u001b[0m\u001b[0;34m)\u001b[0m\u001b[0;34m\u001b[0m\u001b[0;34m\u001b[0m\u001b[0m\n\u001b[1;32m      5\u001b[0m     \u001b[0;32mreturn\u001b[0m \u001b[0memi\u001b[0m\u001b[0;34m\u001b[0m\u001b[0;34m\u001b[0m\u001b[0m\n",
            "\u001b[0;31mZeroDivisionError\u001b[0m: float division by zero"
          ]
        }
      ],
      "source": [
        "emi_without_interest = loan_emi(amount=100000, duration=10*12, rate=0./12)\n",
        "emi_without_interest"
      ]
    },
    {
      "cell_type": "markdown",
      "metadata": {
        "id": "yFJRSLtTir52"
      },
      "source": [
        "Something seems to have gone wrong! If you look at the error message above carefully, Python tells us precisely what is wrong. Python *throws* a `ZeroDivisionError` with a message indicating that we're trying to divide a number by zero. `ZeroDivisonError` is an *exception* that stops further execution of the program.\n",
        "\n",
        "> **Exception**: Even if a statement or expression is syntactically correct, it may cause an error when the Python interpreter tries to execute it. Errors detected during execution are called exceptions. Exceptions typically stop further execution of the program unless handled within the program using `try`-`except` statements.\n",
        "\n",
        "Python provides many built-in exceptions *thrown* when built-in operators, functions, or methods are used incorrectly: https://docs.python.org/3/library/exceptions.html#built-in-exceptions. You can also define your custom exception by extending the `Exception` class (more on that later).\n",
        "\n",
        "You can use the `try` and `except` statements to *handle* an exception. Here's an example:"
      ]
    },
    {
      "cell_type": "code",
      "execution_count": null,
      "metadata": {
        "id": "F1LUrH59ir53",
        "outputId": "a38b232c-0f6e-49ae-973d-970b47f7eabe"
      },
      "outputs": [
        {
          "name": "stdout",
          "output_type": "stream",
          "text": [
            "Now computing the result..\n",
            "Failed to compute result because you were trying to divide by zero\n",
            "None\n"
          ]
        }
      ],
      "source": [
        "try:\n",
        "    print(\"Now computing the result..\")\n",
        "    result = 5 / 0\n",
        "    print(\"Computation was completed successfully\")\n",
        "except ZeroDivisionError:\n",
        "    print(\"Failed to compute result because you were trying to divide by zero\")\n",
        "    result = None\n",
        "\n",
        "print(result)"
      ]
    },
    {
      "cell_type": "markdown",
      "metadata": {
        "id": "QN2cm3Eiir53"
      },
      "source": [
        "When an exception occurs inside a `try` block, the block's remaining statements are skipped. The `except` block is executed if the type of exception thrown matches that of the exception being handled. After executing the `except` block, the program execution returns to the normal flow.\n",
        "\n",
        "You can also handle more than one type of exception using multiple `except` statements. Learn more about exceptions here: https://www.w3schools.com/python/python_try_except.asp .\n",
        "\n",
        "Let's enhance the `loan_emi` function to use `try`-`except` to handle the scenario where the interest rate is 0%. It's common practice to make changes/enhancements to functions over time as new scenarios and use cases come up. It makes functions more robust & versatile."
      ]
    },
    {
      "cell_type": "code",
      "execution_count": null,
      "metadata": {
        "id": "qSyYUAASir54"
      },
      "outputs": [],
      "source": [
        "def loan_emi(amount, duration, rate, down_payment=0):\n",
        "    loan_amount = amount - down_payment\n",
        "    try:\n",
        "        emi = loan_amount * rate * ((1+rate)**duration) / (((1+rate)**duration)-1)\n",
        "    except ZeroDivisionError:\n",
        "        emi = loan_amount / duration\n",
        "    emi = math.ceil(emi)\n",
        "    return emi"
      ]
    },
    {
      "cell_type": "markdown",
      "metadata": {
        "id": "4Xg8Cwhgir54"
      },
      "source": [
        "We can use the updated `loan_emi` function to solve our problem.\n",
        "\n",
        "> **Q**: If you borrow `$100,000` using a 10-year loan with an interest rate of 9% per annum, what is the total amount you end up paying as interest?\n",
        "\n"
      ]
    },
    {
      "cell_type": "code",
      "execution_count": null,
      "metadata": {
        "id": "cMi2m9zeir55",
        "outputId": "6d2beba7-d258-42cc-c468-c3e8c16e8780"
      },
      "outputs": [
        {
          "data": {
            "text/plain": [
              "1267"
            ]
          },
          "execution_count": 48,
          "metadata": {},
          "output_type": "execute_result"
        }
      ],
      "source": [
        "emi_with_interest = loan_emi(amount=100000, duration=10*12, rate=0.09/12)\n",
        "emi_with_interest"
      ]
    },
    {
      "cell_type": "code",
      "execution_count": null,
      "metadata": {
        "id": "sRJT7lVTir55",
        "outputId": "3540142b-4166-4c5b-9e9e-e6e16b081822"
      },
      "outputs": [
        {
          "data": {
            "text/plain": [
              "834"
            ]
          },
          "execution_count": 49,
          "metadata": {},
          "output_type": "execute_result"
        }
      ],
      "source": [
        "emi_without_interest = loan_emi(amount=100000, duration=10*12, rate=0)\n",
        "emi_without_interest"
      ]
    },
    {
      "cell_type": "code",
      "execution_count": null,
      "metadata": {
        "id": "LOK5yabJir56"
      },
      "outputs": [],
      "source": [
        "total_interest = (emi_with_interest - emi_without_interest) * 10*12"
      ]
    },
    {
      "cell_type": "code",
      "execution_count": null,
      "metadata": {
        "id": "JeKWMhW2ir57",
        "outputId": "76ba1735-7348-4ba3-af13-3d1a6352be27"
      },
      "outputs": [
        {
          "name": "stdout",
          "output_type": "stream",
          "text": [
            "The total interest paid is $51960.\n"
          ]
        }
      ],
      "source": [
        "print(\"The total interest paid is ${}.\".format(total_interest))"
      ]
    },
    {
      "cell_type": "markdown",
      "metadata": {
        "id": "9cTP5J68ir57"
      },
      "source": [
        "### Documenting functions using Docstrings\n",
        "\n",
        "We can add some documentation within our function using a *docstring*. A docstring is simply a string that appears as the first statement within the function body, and is used by the `help` function. A good docstring describes what the function does, and provides some explanation about the arguments."
      ]
    },
    {
      "cell_type": "code",
      "execution_count": null,
      "metadata": {
        "id": "RODN9-4zir58"
      },
      "outputs": [],
      "source": [
        "def loan_emi(amount, duration, rate, down_payment=0):\n",
        "    \"\"\"Calculates the equal montly installment (EMI) for a loan.\n",
        "\n",
        "    Arguments:\n",
        "        amount - Total amount to be spent (loan + down payment)\n",
        "        duration - Duration of the loan (in months)\n",
        "        rate - Rate of interest (monthly)\n",
        "        down_payment (optional) - Optional intial payment (deducted from amount)\n",
        "    \"\"\"\n",
        "    loan_amount = amount - down_payment\n",
        "    try:\n",
        "        emi = loan_amount * rate * ((1+rate)**duration) / (((1+rate)**duration)-1)\n",
        "    except ZeroDivisionError:\n",
        "        emi = loan_amount / duration\n",
        "    emi = math.ceil(emi)\n",
        "    return emi"
      ]
    },
    {
      "cell_type": "markdown",
      "metadata": {
        "id": "b0DAy5oVir59"
      },
      "source": [
        "In the docstring above, we've provided some additional information that the `duration` and `rate` are measured in months. You might even consider naming the arguments `duration_months` and `rate_monthly`, to avoid any confusion whatsoever. Can you think of some other ways to improve the function?"
      ]
    },
    {
      "cell_type": "code",
      "execution_count": null,
      "metadata": {
        "id": "FEqHWCESir59",
        "outputId": "a6d46144-70f4-43b1-896b-d2049e08fd05"
      },
      "outputs": [
        {
          "name": "stdout",
          "output_type": "stream",
          "text": [
            "Help on function loan_emi in module __main__:\n",
            "\n",
            "loan_emi(amount, duration, rate, down_payment=0)\n",
            "    Calculates the equal montly installment (EMI) for a loan.\n",
            "    \n",
            "    Arguments:\n",
            "        amount - Total amount to be spent (loan + down payment)\n",
            "        duration - Duration of the loan (in months)\n",
            "        rate - Rate of interest (monthly)\n",
            "        down_payment (optional) - Optional intial payment (deducted from amount)\n",
            "\n"
          ]
        }
      ],
      "source": [
        "help(loan_emi)"
      ]
    },
    {
      "cell_type": "markdown",
      "metadata": {
        "id": "8YAkPnY4ir5-"
      },
      "source": [
        "### Save and upload your notebook\n",
        "\n",
        "Whether you're running this Jupyter notebook online or on your computer, it's essential to save your work from time to time. You can continue working on a saved notebook later or share it with friends and colleagues to let them execute your code. [Jovian](https://www.jovian.ai) offers an easy way of saving and sharing your Jupyter notebooks online."
      ]
    },
    {
      "cell_type": "code",
      "execution_count": null,
      "metadata": {
        "id": "0GPBFCRVir5-"
      },
      "outputs": [],
      "source": [
        "# Instal the library\n",
        "!pip install jovian --upgrade --quiet"
      ]
    },
    {
      "cell_type": "code",
      "execution_count": null,
      "metadata": {
        "id": "nEuMT9Qtir5-"
      },
      "outputs": [],
      "source": [
        "# Import the jovian module\n",
        "import jovian"
      ]
    },
    {
      "cell_type": "code",
      "execution_count": null,
      "metadata": {
        "id": "hD3eFwKoir5-",
        "outputId": "a3f6f8b7-cc86-4586-acde-b1676e98b9f8"
      },
      "outputs": [
        {
          "data": {
            "application/javascript": [
              "window.require && require([\"base/js/namespace\"],function(Jupyter){Jupyter.notebook.save_checkpoint()})"
            ],
            "text/plain": [
              "<IPython.core.display.Javascript object>"
            ]
          },
          "metadata": {},
          "output_type": "display_data"
        },
        {
          "name": "stdout",
          "output_type": "stream",
          "text": [
            "[jovian] Attempting to save notebook..\u001b[0m\n",
            "[jovian] Updating notebook \"aakashns/python-functions-and-scope\" on https://jovian.ai/\u001b[0m\n",
            "[jovian] Uploading notebook..\u001b[0m\n",
            "[jovian] Committed successfully! https://jovian.ai/aakashns/python-functions-and-scope\u001b[0m\n"
          ]
        },
        {
          "data": {
            "text/plain": [
              "'https://jovian.ai/aakashns/python-functions-and-scope'"
            ]
          },
          "execution_count": 59,
          "metadata": {},
          "output_type": "execute_result"
        }
      ],
      "source": [
        "jovian.commit(project='python-functions-and-scope', environment=None)"
      ]
    },
    {
      "cell_type": "markdown",
      "metadata": {
        "id": "ShElFvQBir5_"
      },
      "source": [
        "The first time you run `jovian.commit`, you'll be asked to provide an API Key to securely upload the notebook to your Jovian account. You can get the API key from your [Jovian profile page](https://jovian.ai) after logging in / signing up.\n",
        "\n",
        "\n",
        "`jovian.commit` uploads the notebook to your Jovian account, captures the Python environment, and creates a shareable link for your notebook, as shown above. You can use this link to share your work and let anyone (including you) run your notebooks and reproduce your work."
      ]
    },
    {
      "cell_type": "markdown",
      "metadata": {
        "id": "9m1sszlUir5_"
      },
      "source": [
        "## Exercise - Data Analysis for Vacation Planning\n",
        "\n",
        "You're planning a vacation, and you need to decide which city you want to visit. You have shortlisted four cities and identified the return flight cost, daily hotel cost, and weekly car rental cost. While renting a car, you need to pay for entire weeks, even if you return the car sooner.\n",
        "\n",
        "\n",
        "| City | Return Flight (`$`) | Hotel per day (`$`) | Weekly Car Rental  (`$`) |\n",
        "|------|--------------------------|------------------|------------------------|\n",
        "| Paris|       200                |       20         |          200           |\n",
        "| London|      250                |       30         |          120           |\n",
        "| Dubai|       370                |       15         |          80           |\n",
        "| Mumbai|      450                |       10         |          70           |         \n",
        "\n",
        "\n",
        "Answer the following questions using the data above:\n",
        "\n",
        "1. If you're planning a 1-week long trip, which city should you visit to spend the least amount of money?\n",
        "2. How does the answer to the previous question change if you change the trip's duration to four days, ten days or two weeks?\n",
        "3. If your total budget for the trip is `$1000`, which city should you visit to maximize the duration of your trip? Which city should you visit if you want to minimize the duration?\n",
        "4. How does the answer to the previous question change if your budget is `$600`, `$2000`, or `$1500`?\n",
        "\n",
        "*Hint: To answer these questions, it will help to define a function `cost_of_trip` with relevant inputs like flight cost, hotel rate, car rental rate, and duration of the trip. You may find the `math.ceil` function useful for calculating the total cost of car rental.*"
      ]
    },
    {
      "cell_type": "code",
      "execution_count": null,
      "metadata": {
        "id": "TgWsxOC3ir6A"
      },
      "outputs": [],
      "source": [
        "# Use these cells to answer the question - build the function step-by-step"
      ]
    },
    {
      "cell_type": "code",
      "execution_count": null,
      "metadata": {
        "id": "x3swt3eNir6A"
      },
      "outputs": [],
      "source": []
    },
    {
      "cell_type": "code",
      "execution_count": null,
      "metadata": {
        "id": "Bio_huXXir6B"
      },
      "outputs": [],
      "source": []
    },
    {
      "cell_type": "code",
      "execution_count": null,
      "metadata": {
        "id": "tYq5KaLNir6B"
      },
      "outputs": [],
      "source": []
    },
    {
      "cell_type": "markdown",
      "metadata": {
        "id": "IKgbyClJir6C"
      },
      "source": [
        "## Summary and Further Reading\n",
        "\n",
        "With this, we complete our discussion of functions in Python. We've covered the following topics in this tutorial:\n",
        "\n",
        "* Creating and using functions\n",
        "* Functions with one or more arguments\n",
        "* Local variables and scope\n",
        "* Returning values using `return`\n",
        "* Using default arguments to make a function flexible\n",
        "* Using named arguments while invoking a function\n",
        "* Importing modules and using library functions\n",
        "* Reusing and improving functions to handle new use cases\n",
        "* Handling exceptions with `try`-`except`\n",
        "* Documenting functions using docstrings\n",
        "\n",
        "This tutorial on functions in Python is by no means exhaustive. Here are a few more topics to learn about:\n",
        "\n",
        "* Functions with an arbitrary number of arguments using (`*args` and `**kwargs`)\n",
        "* Defining functions inside functions (and closures)\n",
        "* A function that invokes itself (recursion)\n",
        "* Functions that accept other functions as arguments or return other functions\n",
        "* Functions that enhance other functions (decorators)\n",
        "\n",
        "Following are some resources to learn about more functions in Python:\n",
        "\n",
        "* Python Tutorial at W3Schools: https://www.w3schools.com/python/\n",
        "* Practical Python Programming: https://dabeaz-course.github.io/practical-python/Notes/Contents.html\n",
        "* Python official documentation: https://docs.python.org/3/tutorial/index.html\n",
        "\n",
        "You are ready to move on to the next tutorial: [\"Reading from and writing to files using Python\"](https://jovian.ml/aakashns/python-os-and-filesystem)."
      ]
    },
    {
      "cell_type": "markdown",
      "metadata": {
        "id": "VRSzASpxir6C"
      },
      "source": [
        "## Questions for Revision\n",
        "\n",
        "Try answering the following questions to test your understanding of the topics covered in this notebook:\n",
        "\n",
        "1. What is a function?\n",
        "2. What are the benefits of using functions?\n",
        "3. What are some built-in functions in Python?\n",
        "4. How do you define a function in Python? Give an example.\n",
        "5. What is the body of a function?\n",
        "6. When are the statements in the body of a function executed?\n",
        "7. What is meant by calling or invoking a function? Give an example.\n",
        "8. What are function arguments? How are they useful?\n",
        "9. How do you store the result of a function in a variable?\n",
        "10. What is the purpose of the `return` keyword in Python?\n",
        "11. Can you return multiple values from a function?\n",
        "12. Can a `return` statement be used inside an `if` block or a `for` loop?\n",
        "13. Can the `return` keyword be used outside a function?\n",
        "14. What is scope in a programming region?\n",
        "15. How do you define a variable inside a function?\n",
        "16. What are local & global variables?\n",
        "17. Can you access the variables defined inside a function outside its body? Why or why not?\n",
        "18. What do you mean by the statement \"a function defines a scope within Python\"?\n",
        "19. Do for and while loops define a scope, like functions?\n",
        "20. Do if-else blocks define a scope, like functions?\n",
        "21. What are optional function arguments & default values? Give an example.\n",
        "22. Why should the required arguments appear before the optional arguments in a function definition?\n",
        "23. How do you invoke a function with named arguments? Illustrate with an example.\n",
        "24. Can you split a function invocation into multiple lines?\n",
        "25. Write a function that takes a number and rounds it up to the nearest integer.\n",
        "26. What are modules in Python?\n",
        "27. What is a Python library?\n",
        "28. What is the Python Standard Library?\n",
        "29. Where can you learn about the modules and functions available in the Python standard library?\n",
        "30. How do you install a third-party library?\n",
        "31. What is a module namespace? How is it useful?\n",
        "32. What problems would you run into if Python modules did not provide namespaces?\n",
        "33. How do you import a module?\n",
        "34. How do you use a function from an imported module? Illustrate with an example.\n",
        "35. Can you invoke a function inside the body of another function? Give an example.\n",
        "36. What is the single responsibility principle, and how does it apply while writing functions?\n",
        "37. What some characteristics of well-written functions?\n",
        "38. Can you use if statements or while loops within a function? Illustrate with an example.\n",
        "39. What are exceptions in Python? When do they occur?\n",
        "40. How are exceptions different from syntax errors?\n",
        "41. What are the different types of in-built exceptions in Python? Where can you learn about them?\n",
        "42. How do you prevent the termination of a program due to an exception?\n",
        "43. What is the purpose of the `try`-`except` statements in Python?\n",
        "44. What is the syntax of the `try`-`except` statements? Give an example.\n",
        "45. What happens if an exception occurs inside a `try` block?\n",
        "46. How do you handle two different types of exceptions using `except`? Can you have multiple `except` blocks under a single `try` block?\n",
        "47. How do you create an `except` block to handle any type of exception?\n",
        "48. Illustrate the usage of `try`-`except` inside a function with an example.\n",
        "49. What is a docstring? Why is it useful?\n",
        "50. How do you display the docstring for a function?\n",
        "51. What are *args and **kwargs? How are they useful? Give an example.\n",
        "52. Can you define functions inside functions?\n",
        "53. What is function closure in Python? How is it useful? Give an example.\n",
        "54. What is recursion? Illustrate with an example.\n",
        "55. Can functions accept other functions as arguments? Illustrate with an example.\n",
        "56. Can functions return other functions as results? Illustrate with an example.\n",
        "57. What are decorators? How are they useful?\n",
        "58. Implement a function decorator which prints the arguments and result of wrapped functions.\n",
        "59. What are some in-built decorators in Python?\n",
        "60. What are some popular Python libraries?"
      ]
    },
    {
      "cell_type": "markdown",
      "metadata": {
        "id": "4CuWspg_ir6D"
      },
      "source": [
        "## Solution for Exercise"
      ]
    },
    {
      "cell_type": "markdown",
      "metadata": {
        "id": "Ipka_Mc3ir6D"
      },
      "source": [
        "### Exercise - Data Analysis for Vacation Planning\n",
        "\n",
        "You're planning a vacation, and you need to decide which city you want to visit. You have shortlisted four cities and identified the return flight cost, daily hotel cost, and weekly car rental cost. While renting a car, you need to pay for entire weeks, even if you return the car sooner.\n",
        "\n",
        "\n",
        "| City | Return Flight (`$`) | Hotel per day (`$`) | Weekly Car Rental  (`$`) |\n",
        "|------|--------------------------|------------------|------------------------|\n",
        "| Paris|       200                |       20         |          200           |\n",
        "| London|      250                |       30         |          120           |\n",
        "| Dubai|       370                |       15         |          80           |\n",
        "| Mumbai|      450                |       10         |          70           |         \n",
        "\n",
        "\n",
        "Answer the following questions using the data above:\n",
        "\n",
        "1. If you're planning a 1-week long trip, which city should you visit to spend the least amount of money?\n",
        "2. How does the answer to the previous question change if you change the trip's duration to four days, ten days or two weeks?\n",
        "3. If your total budget for the trip is `$600`, which city should you visit to maximize the duration of your trip? Which city should you visit if you want to minimize the duration?\n",
        "4. How does the answer to the previous question change if your budget is `$1000`, `$2000`, or `$1500`?\n",
        "\n",
        "*Hint: To answer these questions, it will help to define a function `cost_of_trip` with relevant inputs like flight cost, hotel rate, car rental rate, and duration of the trip. You may find the `math.ceil` function useful for calculating the total cost of car rental.*"
      ]
    },
    {
      "cell_type": "code",
      "execution_count": null,
      "metadata": {
        "id": "bcvL5nT3ir6D"
      },
      "outputs": [],
      "source": [
        "import math"
      ]
    },
    {
      "cell_type": "code",
      "execution_count": null,
      "metadata": {
        "id": "8EdDhP2Air6E"
      },
      "outputs": [],
      "source": [
        "Paris=[200,20,200,'Paris']\n",
        "London = [250,30,120,'London']\n",
        "Dubai = [370,15,80,'Dubai']\n",
        "Mumbai = [450,10,70,'Mumbai']\n",
        "Cities = [Paris,London,Dubai,Mumbai]"
      ]
    },
    {
      "cell_type": "code",
      "execution_count": null,
      "metadata": {
        "id": "ejGVPeY4ir6E"
      },
      "outputs": [],
      "source": [
        "def cost_of_trip(flight,hotel_cost,car_rent,num_of_days=0):\n",
        "    return flight+(hotel_cost*num_of_days)+(car_rent*math.ceil(num_of_days/7))"
      ]
    },
    {
      "cell_type": "code",
      "execution_count": null,
      "metadata": {
        "id": "U6bP62Zuir6E"
      },
      "outputs": [],
      "source": [
        "def days_to_visit(days):\n",
        "    costs=[]\n",
        "    for city in Cities:\n",
        "        cost=cost_of_trip(city[0],city[1],city[2],days)\n",
        "        costs.append((cost,city[3]))\n",
        "    min_cost = min(costs)\n",
        "    return min_cost"
      ]
    },
    {
      "cell_type": "markdown",
      "metadata": {
        "id": "nokx4LwMir6F"
      },
      "source": [
        "> 1. If you're planning a 1-week long trip, which city should you visit to spend the least amount of money?"
      ]
    },
    {
      "cell_type": "code",
      "execution_count": null,
      "metadata": {
        "id": "KeMz2qqvir6F",
        "outputId": "822446e5-a5cd-4865-a34b-debea93367ff"
      },
      "outputs": [
        {
          "data": {
            "text/plain": [
              "(540, 'Paris')"
            ]
          },
          "execution_count": 270,
          "metadata": {},
          "output_type": "execute_result"
        }
      ],
      "source": [
        "days_to_visit(7)"
      ]
    },
    {
      "cell_type": "markdown",
      "metadata": {
        "id": "M3ZFTTELir6G"
      },
      "source": [
        "> 2. How does the answer to the previous question change if you change the trip's duration to four days, ten days or two weeks?"
      ]
    },
    {
      "cell_type": "code",
      "execution_count": null,
      "metadata": {
        "id": "5rpLh0-bir6G",
        "outputId": "dcfbcd21-0549-4c08-8315-29710d8fe477"
      },
      "outputs": [
        {
          "data": {
            "text/plain": [
              "(480, 'Paris')"
            ]
          },
          "execution_count": 271,
          "metadata": {},
          "output_type": "execute_result"
        }
      ],
      "source": [
        "days_to_visit(4)"
      ]
    },
    {
      "cell_type": "code",
      "execution_count": null,
      "metadata": {
        "id": "WoupsuVUir6H",
        "outputId": "c8ff6b90-506b-4cf6-9f68-3be3435bdcb4"
      },
      "outputs": [
        {
          "data": {
            "text/plain": [
              "(680, 'Dubai')"
            ]
          },
          "execution_count": 272,
          "metadata": {},
          "output_type": "execute_result"
        }
      ],
      "source": [
        "days_to_visit(10)"
      ]
    },
    {
      "cell_type": "code",
      "execution_count": null,
      "metadata": {
        "id": "6depZ7exir6H",
        "outputId": "56096eaf-a2d5-49a8-b39b-9866f86eecdb"
      },
      "outputs": [
        {
          "data": {
            "text/plain": [
              "(730, 'Mumbai')"
            ]
          },
          "execution_count": 273,
          "metadata": {},
          "output_type": "execute_result"
        }
      ],
      "source": [
        "days_to_visit(14)"
      ]
    },
    {
      "cell_type": "markdown",
      "metadata": {
        "id": "TOruG68rir6I"
      },
      "source": [
        "> 3. If your total budget for the trip is `$600`, which city should you visit to maximize the duration of your trip? Which city should you visit if you want to minimize the duration?"
      ]
    },
    {
      "cell_type": "code",
      "execution_count": null,
      "metadata": {
        "id": "ulrGOURhir6I"
      },
      "outputs": [],
      "source": [
        "def given_budget(budget,less_days=False):\n",
        "    days=1\n",
        "    cost=0\n",
        "    while cost<budget:\n",
        "        #copy of city cost\n",
        "        cost_before=cost\n",
        "        try:\n",
        "            #copy of costs dictionary, if exists\n",
        "            costs_before=costs.copy()\n",
        "        except:\n",
        "            #if costs dictionary doesn't exist, create an empty dictionary\n",
        "            costs_before={}\n",
        "        costs={}\n",
        "        for city in Cities:\n",
        "            cost = cost_of_trip(city[0],city[1],city[2],days)\n",
        "            costs[cost] = city[3]\n",
        "        if less_days:\n",
        "            cost=max(list(costs.keys()))\n",
        "            ''' The while loop breaks only after cost>600 condition is met.\n",
        "            when the condition is met, the costs dictionary updates to values that are greater than 600\n",
        "            so we check if it is exceeding, if it does, we return the values from the previous dictionary cost_before. '''\n",
        "            if cost>=budget:\n",
        "                return costs_before[cost_before],days-1\n",
        "        else:\n",
        "            cost=min(list(costs.keys()))\n",
        "            if cost>=budget:\n",
        "                return costs_before[cost_before],days-1\n",
        "        days+=1"
      ]
    },
    {
      "cell_type": "code",
      "execution_count": null,
      "metadata": {
        "id": "_Sm387Tcir6I"
      },
      "outputs": [],
      "source": [
        "city_to_stay_maximum_days=given_budget(600)"
      ]
    },
    {
      "cell_type": "code",
      "execution_count": null,
      "metadata": {
        "id": "wST3hiAmir6J",
        "outputId": "de625f7e-ec39-44fe-8128-7b4175114bb3"
      },
      "outputs": [
        {
          "name": "stdout",
          "output_type": "stream",
          "text": [
            "('Paris', 7)\n"
          ]
        }
      ],
      "source": [
        "print(city_to_stay_maximum_days)"
      ]
    },
    {
      "cell_type": "code",
      "execution_count": null,
      "metadata": {
        "id": "fj20ll2tir6J"
      },
      "outputs": [],
      "source": [
        "city_to_stay_minimum_days=given_budget(600,less_days=True)"
      ]
    },
    {
      "cell_type": "code",
      "execution_count": null,
      "metadata": {
        "id": "TtYI1Icxir6K",
        "outputId": "16cc0a96-4fc1-4970-e647-c6b6c6e6066e"
      },
      "outputs": [
        {
          "name": "stdout",
          "output_type": "stream",
          "text": [
            "('Mumbai', 7)\n"
          ]
        }
      ],
      "source": [
        "print(city_to_stay_minimum_days)"
      ]
    },
    {
      "cell_type": "markdown",
      "metadata": {
        "id": "6Tb5AbNYir6N"
      },
      "source": [
        "> 4. How does the answer to the previous question change if your budget is `$1000`, `$2000`, or `$1500`?"
      ]
    },
    {
      "cell_type": "markdown",
      "metadata": {
        "id": "PEXEQmDSir6N"
      },
      "source": [
        "- For 1000 dollars"
      ]
    },
    {
      "cell_type": "code",
      "execution_count": null,
      "metadata": {
        "id": "19BwTn_Tir6N",
        "outputId": "45569018-9aae-43c7-df72-d2d4ef089b22"
      },
      "outputs": [
        {
          "name": "stdout",
          "output_type": "stream",
          "text": [
            "('Mumbai', 26)\n"
          ]
        }
      ],
      "source": [
        "city_to_stay_maximum_days=given_budget(1000)\n",
        "print(city_to_stay_maximum_days)"
      ]
    },
    {
      "cell_type": "code",
      "execution_count": null,
      "metadata": {
        "id": "Tye6-uMSir6O",
        "outputId": "5313e2af-f8c0-4a38-8ea6-be74140fb50e"
      },
      "outputs": [
        {
          "name": "stdout",
          "output_type": "stream",
          "text": [
            "('London', 14)\n"
          ]
        }
      ],
      "source": [
        "city_to_stay_minimum_days=given_budget(1000,less_days=True)\n",
        "print(city_to_stay_minimum_days)"
      ]
    },
    {
      "cell_type": "markdown",
      "metadata": {
        "id": "NobWmyIair6O"
      },
      "source": [
        "- For 2000 dollars"
      ]
    },
    {
      "cell_type": "code",
      "execution_count": null,
      "metadata": {
        "id": "mGyvik5qir6O",
        "outputId": "f4e84ab6-fd71-4a4d-fa77-d9bddb5ba30b"
      },
      "outputs": [
        {
          "name": "stdout",
          "output_type": "stream",
          "text": [
            "('Mumbai', 77)\n"
          ]
        }
      ],
      "source": [
        "city_to_stay_maximum_days=given_budget(2000)\n",
        "print(city_to_stay_maximum_days)"
      ]
    },
    {
      "cell_type": "code",
      "execution_count": null,
      "metadata": {
        "id": "aY2k1c1kir6O",
        "outputId": "4243fca3-9ac6-43e5-9e78-d69aa8072430"
      },
      "outputs": [
        {
          "name": "stdout",
          "output_type": "stream",
          "text": [
            "('London', 35)\n"
          ]
        }
      ],
      "source": [
        "city_to_stay_minimum=given_budget(2000,less_days=True)\n",
        "print(city_to_stay_minimum)"
      ]
    },
    {
      "cell_type": "markdown",
      "metadata": {
        "id": "uLLImMwAir6P"
      },
      "source": [
        "- For 1500 dollars"
      ]
    },
    {
      "cell_type": "code",
      "execution_count": null,
      "metadata": {
        "id": "layPqxdUir6P",
        "outputId": "08569cf9-3895-4b26-bcb4-2b4ebfc4d48d"
      },
      "outputs": [
        {
          "name": "stdout",
          "output_type": "stream",
          "text": [
            "('Mumbai', 49)\n"
          ]
        }
      ],
      "source": [
        "city_to_stay_maximum_days=given_budget(1500)\n",
        "print(city_to_stay_maximum_days)"
      ]
    },
    {
      "cell_type": "code",
      "execution_count": null,
      "metadata": {
        "id": "MvSFgW2Hir6P",
        "outputId": "79ae053b-ad3f-4aae-d71e-4a7c98e0beeb"
      },
      "outputs": [
        {
          "name": "stdout",
          "output_type": "stream",
          "text": [
            "('Paris', 24)\n"
          ]
        }
      ],
      "source": [
        "city_to_stay_minimum_days=given_budget(1500,less_days=True)\n",
        "print(city_to_stay_minimum_days)"
      ]
    }
  ],
  "metadata": {
    "kernelspec": {
      "display_name": "Python 3 (ipykernel)",
      "language": "python",
      "name": "python3"
    },
    "language_info": {
      "codemirror_mode": {
        "name": "ipython",
        "version": 3
      },
      "file_extension": ".py",
      "mimetype": "text/x-python",
      "name": "python",
      "nbconvert_exporter": "python",
      "pygments_lexer": "ipython3",
      "version": "3.9.6"
    },
    "colab": {
      "provenance": [],
      "include_colab_link": true
    }
  },
  "nbformat": 4,
  "nbformat_minor": 0
}