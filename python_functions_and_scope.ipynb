/*Radha is planning to buy a house that costs $1,260,000. She considering two options to finance her purchase:

Option 1: Make an immediate down payment of $300,000, and take loan 8-year loan with an interest rate of 10% (compounded monthly) for the remaining amount.
Option 2: Take a 10-year loan with an interest rate of 8% (compounded monthly) for the entire amount.
use python functions to solve */



def calculate_monthly_payment(principal, interest_rate, loan_period):
    n = loan_period * 12
    r = interest_rate / (12 * 100)
    monthly_payment = (principal * r * (1 + r) ** n) / ((1 + r) ** n - 1)
    return monthly_payment

def option1_total_amount(principal, down_payment, interest_rate, loan_period):
    loan_amount = principal - down_payment
    monthly_payment = calculate_monthly_payment(loan_amount, interest_rate, loan_period)
    total_payment = down_payment + (monthly_payment * loan_period * 12)
    return total_payment

def option2_total_amount(principal, interest_rate, loan_period):
    monthly_payment = calculate_monthly_payment(principal, interest_rate, loan_period)
    total_payment = monthly_payment * loan_period * 12
    return total_payment

def main():
    # Constants
    house_cost = 1260000
    down_payment_option1 = 300000
    interest_rate_option1 = 10
    interest_rate_option2 = 8
    loan_period_option1 = 8
    loan_period_option2 = 10

    # Calculate total amounts using local variables and functions
    total_amount_option1 = option1_total_amount(house_cost, down_payment_option1, interest_rate_option1, loan_period_option1)
    total_amount_option2 = option2_total_amount(house_cost, interest_rate_option2, loan_period_option2)

    # Display results
    print("Total amount paid for Option 1: ${:.2f}".format(total_amount_option1))
    print("Total amount paid for Option 2: ${:.2f}".format(total_amount_option2))

if __name__ == "__main__":
    main()
